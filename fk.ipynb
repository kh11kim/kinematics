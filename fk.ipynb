{
 "cells": [
  {
   "cell_type": "code",
   "execution_count": 1,
   "metadata": {},
   "outputs": [
    {
     "name": "stderr",
     "output_type": "stream",
     "text": [
      "pybullet build time: Nov  8 2022 14:29:22\n"
     ]
    }
   ],
   "source": [
    "import numpy as np\n",
    "import sympy as sym\n",
    "from pybullet_suite import *\n",
    "from parse_urdf import *"
   ]
  },
  {
   "cell_type": "code",
   "execution_count": 2,
   "metadata": {},
   "outputs": [],
   "source": [
    "#sympy\n",
    "def get_sym_matrix(rpy=[0,0,0], trans=[0,0,0]):\n",
    "    rot_mat = Rotation.from_euler(\"zyx\", rpy[::-1]).as_matrix()\n",
    "    rot_mat[np.abs(rot_mat) < 1e-9] = 0.\n",
    "    T = np.block([[rot_mat, np.array(trans)[:,None]], [0,0,0,1]])\n",
    "    return sym.Matrix(T)\n",
    "\n",
    "# calculate forward kinematics\n",
    "def get_T_lists(link_dict, joint_dict, qs, ee_link_name):\n",
    "    T_link_list, T_joint_list = [], []\n",
    "    link_name = ee_link_name  #\"panda_grasptarget\"\n",
    "    while True:\n",
    "        if \"parent_joint\" not in link_dict[link_name]:  break\n",
    "        parent_joint_name = link_dict[link_name][\"parent_joint\"]\n",
    "        parent_joint = joint_dict[parent_joint_name]\n",
    "        T = get_sym_matrix(parent_joint[\"origin_rpy\"], parent_joint[\"origin_xyz\"])\n",
    "        T_link_list.append(T)\n",
    "        link_name = joint_dict[parent_joint_name][\"parent\"]\n",
    "    T_link_list = T_link_list[::-1]\n",
    "\n",
    "    i = 0\n",
    "    while True:\n",
    "        if \"joint\" not in link_dict[link_name]: break\n",
    "        joint_name = link_dict[link_name][\"joint\"]\n",
    "        if joint_dict[joint_name][\"joint_type\"] == \"revolute\":\n",
    "            T_q = yaw_rot_mat(qs[i])\n",
    "            T_joint_list.append(T_q)\n",
    "        else:\n",
    "            T_joint_list.append(None)\n",
    "        link_name = joint_dict[joint_name][\"child\"]\n",
    "        i += 1\n",
    "    \n",
    "    return T_link_list, T_joint_list\n",
    "\n",
    "\n",
    "\n",
    "def yaw_rot_mat(q):\n",
    "    s, c = sym.sin(q), sym.cos(q)\n",
    "    return sym.Matrix([[c, -s, 0, 0],\n",
    "                       [s, c, 0, 0],\n",
    "                       [0, 0, 1, 0],\n",
    "                       [0,0,0,1]])\n",
    "\n",
    "\n",
    "def get_fk_sym_expr(link_dict, joint_dict, T_dict, root_link_name):\n",
    "    link_name = root_link_name #\"panda_link0\"\n",
    "    fk = sym.Matrix(np.eye(4))\n",
    "    while True:\n",
    "        if \"joint\" not in link_dict[link_name]: break\n",
    "        joint_name = link_dict[link_name][\"joint\"]\n",
    "        if joint_name in T_dict:\n",
    "            fk *= T_dict[joint_name]\n",
    "        if \"q_\"+joint_name in T_dict:\n",
    "            fk *= T_dict[\"q_\"+joint_name]\n",
    "        link_name = joint_dict[joint_name][\"child\"]\n",
    "    return fk"
   ]
  },
  {
   "cell_type": "code",
   "execution_count": 3,
   "metadata": {},
   "outputs": [
    {
     "name": "stdout",
     "output_type": "stream",
     "text": [
      "Robot name: panda\n"
     ]
    }
   ],
   "source": [
    "# Define the path to the URDF file\n",
    "urdf_file = \"panda.urdf\"\n",
    "\n",
    "# Parse the URDF file using ElementTree\n",
    "link_dict, joint_dict = get_link_joint_dict(urdf_file)"
   ]
  },
  {
   "cell_type": "code",
   "execution_count": 4,
   "metadata": {},
   "outputs": [],
   "source": [
    "q1, q2, q3, q4, q5, q6, q7 = sym.symbols('q1 q2 q3 q4 q5 q6 q7')\n",
    "qs = [q1, q2, q3, q4, q5, q6, q7]\n",
    "T_offset_list, T_joint_list = get_T_lists(link_dict, joint_dict, qs, \"panda_grasptarget\")"
   ]
  },
  {
   "cell_type": "code",
   "execution_count": 5,
   "metadata": {},
   "outputs": [],
   "source": [
    "Ts = []\n",
    "for T_offset, T_joint in zip(T_offset_list, T_joint_list):\n",
    "    T = T_offset\n",
    "    if T_joint is not None:\n",
    "        T = T @ T_joint\n",
    "    Ts.append(T)"
   ]
  },
  {
   "cell_type": "code",
   "execution_count": 23,
   "metadata": {},
   "outputs": [
    {
     "data": {
      "text/latex": [
       "$\\displaystyle \\left[\\begin{matrix}0.316 \\sin{\\left(q_{2} \\right)} \\cos{\\left(q_{1} \\right)}\\\\0.316 \\sin{\\left(q_{1} \\right)} \\sin{\\left(q_{2} \\right)}\\\\0.316 \\cos{\\left(q_{2} \\right)} + 0.333\\end{matrix}\\right]$"
      ],
      "text/plain": [
       "Matrix([\n",
       "[0.316*sin(q2)*cos(q1)],\n",
       "[0.316*sin(q1)*sin(q2)],\n",
       "[0.316*cos(q2) + 0.333]])"
      ]
     },
     "execution_count": 23,
     "metadata": {},
     "output_type": "execute_result"
    }
   ],
   "source": [
    "#0 1\n",
    "Ts[0]\n",
    "# 1 2\n",
    "Ts[1]\n",
    "# 0 2\n",
    "Ts[0] @ Ts[1]\n",
    "def get_T(Ts, link_from, link_to):\n",
    "    T = sym.Matrix(np.eye(4))\n",
    "    for i in range(link_from, link_to):\n",
    "        T = T@Ts[i]\n",
    "    return T\n",
    "\n",
    "get_T(Ts, 0, 3)[:3, -1]"
   ]
  },
  {
   "cell_type": "code",
   "execution_count": 6,
   "metadata": {},
   "outputs": [],
   "source": [
    "fk = sym.Matrix(np.eye(4))\n",
    "for T in Ts:\n",
    "    fk = fk @ T"
   ]
  },
  {
   "cell_type": "code",
   "execution_count": 7,
   "metadata": {},
   "outputs": [
    {
     "name": "stdout",
     "output_type": "stream",
     "text": [
      "argv[0]=\n"
     ]
    }
   ],
   "source": [
    "# test\n",
    "world = BulletWorld(gui=False)\n",
    "panda = world.load_robot(robot_class=Panda, name=\"panda\")"
   ]
  },
  {
   "cell_type": "code",
   "execution_count": 8,
   "metadata": {},
   "outputs": [],
   "source": [
    "q = panda.get_random_arm_angles()\n",
    "q_values = {q:qval for q, qval in zip(qs, q)}\n",
    "T_evaluated = fk.subs(q_values)"
   ]
  },
  {
   "cell_type": "code",
   "execution_count": 9,
   "metadata": {},
   "outputs": [
    {
     "data": {
      "text/latex": [
       "$\\displaystyle \\left[\\begin{matrix}-0.553131911531489 & 0.78992856415633 & 0.264684627387838 & 0.344082987256378\\\\0.787427231061932 & 0.599468195862772 & -0.143513894557885 & 0.287905764579648\\\\-0.272035740717391 & 0.129037768420533 & -0.953596251090255 & 0.578119764170826\\\\0 & 0 & 0 & 1.0\\end{matrix}\\right]$"
      ],
      "text/plain": [
       "Matrix([\n",
       "[-0.553131911531489,  0.78992856415633,  0.264684627387838, 0.344082987256378],\n",
       "[ 0.787427231061932, 0.599468195862772, -0.143513894557885, 0.287905764579648],\n",
       "[-0.272035740717391, 0.129037768420533, -0.953596251090255, 0.578119764170826],\n",
       "[                 0,                 0,                  0,               1.0]])"
      ]
     },
     "execution_count": 9,
     "metadata": {},
     "output_type": "execute_result"
    }
   ],
   "source": [
    "T_evaluated"
   ]
  },
  {
   "cell_type": "code",
   "execution_count": 11,
   "metadata": {},
   "outputs": [
    {
     "data": {
      "text/plain": [
       "array([[-0.55313191,  0.78992856,  0.26468463,  0.34408299],\n",
       "       [ 0.78742723,  0.5994682 , -0.14351389,  0.28790576],\n",
       "       [-0.27203574,  0.12903777, -0.95359625,  0.57811976],\n",
       "       [ 0.        ,  0.        ,  0.        ,  1.        ]])"
      ]
     },
     "execution_count": 11,
     "metadata": {},
     "output_type": "execute_result"
    }
   ],
   "source": [
    "panda.forward_kinematics(q).as_matrix()"
   ]
  },
  {
   "cell_type": "code",
   "execution_count": 18,
   "metadata": {},
   "outputs": [
    {
     "data": {
      "text/plain": [
       "9"
      ]
     },
     "execution_count": 18,
     "metadata": {},
     "output_type": "execute_result"
    }
   ],
   "source": [
    "len(T_joint_list)"
   ]
  },
  {
   "cell_type": "code",
   "execution_count": 10,
   "metadata": {},
   "outputs": [
    {
     "data": {
      "text/latex": [
       "$\\displaystyle \\left[\\begin{matrix}1.0 & 0 & 0 & 0\\\\0 & 1.0 & 0 & 0\\\\0 & 0 & 1.0 & 0.333\\\\0 & 0 & 0 & 1.0\\end{matrix}\\right]$"
      ],
      "text/plain": [
       "Matrix([\n",
       "[1.0,   0,   0,     0],\n",
       "[  0, 1.0,   0,     0],\n",
       "[  0,   0, 1.0, 0.333],\n",
       "[  0,   0,   0,   1.0]])"
      ]
     },
     "execution_count": 10,
     "metadata": {},
     "output_type": "execute_result"
    }
   ],
   "source": [
    "T_link_list[0]"
   ]
  },
  {
   "cell_type": "code",
   "execution_count": 11,
   "metadata": {},
   "outputs": [
    {
     "data": {
      "text/latex": [
       "$\\displaystyle \\left[\\begin{matrix}\\cos{\\left(q_{1} \\right)} & - \\sin{\\left(q_{1} \\right)} & 0 & 0\\\\\\sin{\\left(q_{1} \\right)} & \\cos{\\left(q_{1} \\right)} & 0 & 0\\\\0 & 0 & 1 & 0\\\\0 & 0 & 0 & 1\\end{matrix}\\right]$"
      ],
      "text/plain": [
       "Matrix([\n",
       "[cos(q1), -sin(q1), 0, 0],\n",
       "[sin(q1),  cos(q1), 0, 0],\n",
       "[      0,        0, 1, 0],\n",
       "[      0,        0, 0, 1]])"
      ]
     },
     "execution_count": 11,
     "metadata": {},
     "output_type": "execute_result"
    }
   ],
   "source": [
    "T_joint_list[0]"
   ]
  },
  {
   "cell_type": "code",
   "execution_count": null,
   "metadata": {},
   "outputs": [],
   "source": [
    "T_dict = get_T_dict(link_dict, joint_dict, qs)\n",
    "fk = get_fk_sym_expr(link_dict, joint_dict, T_dict, \"panda_link0\")"
   ]
  },
  {
   "cell_type": "code",
   "execution_count": null,
   "metadata": {},
   "outputs": [],
   "source": [
    "# test\n",
    "world = BulletWorld(gui=False)\n",
    "panda = world.load_robot(Panda, \"panda\")\n",
    "q = panda.get_random_arm_angles()\n",
    "q_values = {q:qval for q, qval in zip(qs, q)}\n",
    "T_evaluated = fk.subs(q_values)"
   ]
  },
  {
   "cell_type": "code",
   "execution_count": null,
   "metadata": {},
   "outputs": [],
   "source": []
  }
 ],
 "metadata": {
  "kernelspec": {
   "display_name": "base",
   "language": "python",
   "name": "python3"
  },
  "language_info": {
   "codemirror_mode": {
    "name": "ipython",
    "version": 3
   },
   "file_extension": ".py",
   "mimetype": "text/x-python",
   "name": "python",
   "nbconvert_exporter": "python",
   "pygments_lexer": "ipython3",
   "version": "3.9.7"
  },
  "orig_nbformat": 4,
  "vscode": {
   "interpreter": {
    "hash": "200cfa3700f9ce8331bff5d79f1a4996e02dcf6e1e794625aed4014bb4176ee2"
   }
  }
 },
 "nbformat": 4,
 "nbformat_minor": 2
}

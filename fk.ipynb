{
 "cells": [
  {
   "cell_type": "code",
   "execution_count": null,
   "metadata": {},
   "outputs": [],
   "source": [
    "import numpy as np\n",
    "import sympy as sym\n",
    "from pybullet_suite import *\n",
    "from .parse_urdf import *"
   ]
  },
  {
   "cell_type": "code",
   "execution_count": null,
   "metadata": {},
   "outputs": [],
   "source": [
    "# calculate forward kinematics\n",
    "def get_T_dict(link_dict, joint_dict, qs):\n",
    "    T_dict = {}\n",
    "    link_name = \"panda_grasptarget\"\n",
    "    while True:\n",
    "        if \"parent_joint\" not in link_dict[link_name]:  break\n",
    "        parent_joint_name = link_dict[link_name][\"parent_joint\"]\n",
    "        parent_joint = joint_dict[parent_joint_name]\n",
    "        T_dict[parent_joint_name] = generate_sym_matrix(parent_joint[\"origin_rpy\"], parent_joint[\"origin_xyz\"])\n",
    "        link_name = joint_dict[parent_joint_name][\"parent\"]\n",
    "\n",
    "    i = 0\n",
    "    while True:\n",
    "        if \"joint\" not in link_dict[link_name]: break\n",
    "        joint_name = link_dict[link_name][\"joint\"]\n",
    "        if joint_dict[joint_name][\"joint_type\"] == \"revolute\":\n",
    "            T_dict[f\"q_{joint_name}\"] = yaw_rot_mat(qs[i])\n",
    "        link_name = joint_dict[joint_name][\"child\"]\n",
    "        i += 1\n",
    "    return T_dict\n",
    "\n",
    "#sympy\n",
    "def generate_sym_matrix(rpy=[0,0,0], trans=[0,0,0]):\n",
    "    rot_mat = Rotation.from_euler(\"zyx\", rpy[::-1]).as_matrix()\n",
    "    rot_mat[np.abs(rot_mat) < 1e-9] = 0.\n",
    "    T = np.block([[rot_mat, np.array(trans)[:,None]], [0,0,0,1]])\n",
    "    return sym.Matrix(T)\n",
    "\n",
    "def yaw_rot_mat(q):\n",
    "    s, c = sym.sin(q), sym.cos(q)\n",
    "    return sym.Matrix([[c, -s, 0, 0],\n",
    "                       [s, c, 0, 0],\n",
    "                       [0, 0, 1, 0],\n",
    "                       [0,0,0,1]])\n",
    "\n",
    "\n",
    "def get_fk_sym_expr(link_dict, joint_dict, T_dict, root_link_name):\n",
    "    link_name = root_link_name #\"panda_link0\"\n",
    "    fk = sym.Matrix(np.eye(4))\n",
    "    while True:\n",
    "        if \"joint\" not in link_dict[link_name]: break\n",
    "        joint_name = link_dict[link_name][\"joint\"]\n",
    "        if joint_name in T_dict:\n",
    "            fk *= T_dict[joint_name]\n",
    "        if \"q_\"+joint_name in T_dict:\n",
    "            fk *= T_dict[\"q_\"+joint_name]\n",
    "        link_name = joint_dict[joint_name][\"child\"]\n",
    "    return fk"
   ]
  },
  {
   "cell_type": "code",
   "execution_count": null,
   "metadata": {},
   "outputs": [],
   "source": [
    "# Define the path to the URDF file\n",
    "urdf_file = \"panda.urdf\"\n",
    "\n",
    "# Parse the URDF file using ElementTree\n",
    "link_dict, joint_dict = get_link_joint_dict(urdf_file)"
   ]
  },
  {
   "cell_type": "code",
   "execution_count": null,
   "metadata": {},
   "outputs": [],
   "source": [
    "q1, q2, q3, q4, q5, q6, q7 = sym.symbols('q1 q2 q3 q4 q5 q6 q7')\n",
    "qs = [q1, q2, q3, q4, q5, q6, q7]\n",
    "T_dict = get_T_dict(link_dict, joint_dict, qs)\n",
    "fk = get_fk_sym_expr(link_dict, joint_dict, T_dict, \"panda_link0\")"
   ]
  },
  {
   "cell_type": "code",
   "execution_count": null,
   "metadata": {},
   "outputs": [],
   "source": [
    "# test\n",
    "q = panda.get_random_arm_angles()\n",
    "q_values = {q:qval for q, qval in zip(qs, q)}\n",
    "T_evaluated = fk.subs(q_values)"
   ]
  },
  {
   "cell_type": "code",
   "execution_count": null,
   "metadata": {},
   "outputs": [],
   "source": [
    "world = BulletWorld(gui=False)\n",
    "panda = world.load_robot(Panda, \"panda\")"
   ]
  }
 ],
 "metadata": {
  "kernelspec": {
   "display_name": "base",
   "language": "python",
   "name": "python3"
  },
  "language_info": {
   "name": "python",
   "version": "3.9.13 (main, Aug 25 2022, 18:29:29) \n[Clang 12.0.0 ]"
  },
  "orig_nbformat": 4,
  "vscode": {
   "interpreter": {
    "hash": "200cfa3700f9ce8331bff5d79f1a4996e02dcf6e1e794625aed4014bb4176ee2"
   }
  }
 },
 "nbformat": 4,
 "nbformat_minor": 2
}
